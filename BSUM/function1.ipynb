{
  "nbformat": 4,
  "nbformat_minor": 0,
  "metadata": {
    "colab": {
      "name": "function1.ipynb",
      "provenance": []
    },
    "kernelspec": {
      "name": "python3",
      "display_name": "Python 3"
    },
    "language_info": {
      "name": "python"
    }
  },
  "cells": [
    {
      "cell_type": "code",
      "execution_count": null,
      "metadata": {
        "id": "eM4QJZ4Ocvjk"
      },
      "outputs": [],
      "source": [
        "def S(X, gamma):\n",
        "  X[(X >= -gamma) & (X <= gamma)] = 0\n",
        "  X[X < -gamma] += gamma\n",
        "  X[X > gamma] -= gamma\n",
        "  \n",
        "  return X\n",
        "\n",
        "def P(X):\n",
        "  shape = X.shape\n",
        "  for i in range(shape[1]):\n",
        "    norm = np.linalg.norm(X[:, i])\n",
        "    if(norm > 1):\n",
        "      X[:, i] /= norm\n",
        "  return X\n",
        "\n",
        "def d(Y, A, X):\n",
        "  return 1/2 * np.linalg.norm(Y - A @ X, ord = 'fro') ** 2 + lamda * np.linalg.norm(X, ord = 1)\n",
        "\n",
        "def cal_recon_error(Y, A, X):\n",
        "  return np.mean(np.sum((A @ X - Y) ** 2, axis=0) / np.sum(Y ** 2, axis=0))"
      ]
    }
  ]
}